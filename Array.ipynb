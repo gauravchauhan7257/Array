{
  "nbformat": 4,
  "nbformat_minor": 0,
  "metadata": {
    "colab": {
      "provenance": []
    },
    "kernelspec": {
      "name": "python3",
      "display_name": "Python 3"
    },
    "language_info": {
      "name": "python"
    }
  },
  "cells": [
    {
      "cell_type": "code",
      "execution_count": null,
      "metadata": {
        "id": "IAqV853suJdB"
      },
      "outputs": [],
      "source": []
    },
    {
      "cell_type": "markdown",
      "source": [
        "Array"
      ],
      "metadata": {
        "id": "b6ARaK1UujzZ"
      }
    },
    {
      "cell_type": "markdown",
      "source": [
        "1> this is a question\n",
        " > this is a answer\n",
        "2> this is a question\n",
        " > this is a answer\n",
        "3> this is a question\n",
        " > this is a answer"
      ],
      "metadata": {
        "id": "F9nTMyxSunfv"
      }
    },
    {
      "cell_type": "markdown",
      "source": [],
      "metadata": {
        "id": "xc1LrqM8ugRQ"
      }
    }
  ]
}